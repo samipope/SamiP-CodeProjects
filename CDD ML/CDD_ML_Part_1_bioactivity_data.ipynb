{
  "cells": [
    {
      "cell_type": "markdown",
      "metadata": {
        "colab_type": "text",
        "id": "wSFbIMb87cHu"
      },
      "source": [
        "# **Computational Drug Discovery [Part 1] Download Bioactivity Data**\n",
        "\n",
        "Chanin Nantasenamat\n",
        "\n",
        "[*'Data Professor' YouTube channel*](http://youtube.com/dataprofessor)\n",
        "\n",
        "In this Jupyter notebook, we will be building a real-life **data science project** that you can include in your **data science portfolio**. Particularly, we will be building a machine learning model using the ChEMBL bioactivity data.\n",
        "\n",
        "---"
      ]
    },
    {
      "cell_type": "markdown",
      "metadata": {
        "colab_type": "text",
        "id": "3iQiERxumDor"
      },
      "source": [
        "## **ChEMBL Database**\n",
        "\n",
        "The [*ChEMBL Database*](https://www.ebi.ac.uk/chembl/) is a database that contains curated bioactivity data of more than 2 million compounds. It is compiled from more than 76,000 documents, 1.2 million assays and the data spans 13,000 targets and 1,800 cells and 33,000 indications.\n",
        "[Data as of March 25, 2020; ChEMBL version 26]."
      ]
    },
    {
      "cell_type": "markdown",
      "metadata": {
        "colab_type": "text",
        "id": "iryGAwAIQ4yf"
      },
      "source": [
        "## **Installing libraries**"
      ]
    },
    {
      "cell_type": "markdown",
      "metadata": {
        "colab_type": "text",
        "id": "toGT1U_B7F2i"
      },
      "source": [
        "Install the ChEMBL web service package so that we can retrieve bioactivity data from the ChEMBL Database."
      ]
    },
    {
      "cell_type": "code",
      "execution_count": 25,
      "metadata": {
        "colab": {
          "base_uri": "https://localhost:8080/",
          "height": 349
        },
        "colab_type": "code",
        "id": "cJGExHQBfLh7",
        "outputId": "783c9cb5-c5d4-4545-a9d3-6c2a2f2b0e53"
      },
      "outputs": [
        {
          "name": "stdout",
          "output_type": "stream",
          "text": [
            "Requirement already satisfied: chembl_webresource_client in ./myenv/lib/python3.12/site-packages (0.10.9)\n",
            "Requirement already satisfied: urllib3 in ./myenv/lib/python3.12/site-packages (from chembl_webresource_client) (2.2.2)\n",
            "Requirement already satisfied: requests>=2.18.4 in ./myenv/lib/python3.12/site-packages (from chembl_webresource_client) (2.32.3)\n",
            "Requirement already satisfied: requests-cache~=1.2 in ./myenv/lib/python3.12/site-packages (from chembl_webresource_client) (1.2.1)\n",
            "Requirement already satisfied: easydict in ./myenv/lib/python3.12/site-packages (from chembl_webresource_client) (1.13)\n",
            "Requirement already satisfied: charset-normalizer<4,>=2 in ./myenv/lib/python3.12/site-packages (from requests>=2.18.4->chembl_webresource_client) (3.3.2)\n",
            "Requirement already satisfied: idna<4,>=2.5 in ./myenv/lib/python3.12/site-packages (from requests>=2.18.4->chembl_webresource_client) (3.7)\n",
            "Requirement already satisfied: certifi>=2017.4.17 in ./myenv/lib/python3.12/site-packages (from requests>=2.18.4->chembl_webresource_client) (2024.7.4)\n",
            "Requirement already satisfied: attrs>=21.2 in ./myenv/lib/python3.12/site-packages (from requests-cache~=1.2->chembl_webresource_client) (23.2.0)\n",
            "Requirement already satisfied: cattrs>=22.2 in ./myenv/lib/python3.12/site-packages (from requests-cache~=1.2->chembl_webresource_client) (23.2.3)\n",
            "Requirement already satisfied: platformdirs>=2.5 in ./myenv/lib/python3.12/site-packages (from requests-cache~=1.2->chembl_webresource_client) (4.2.2)\n",
            "Requirement already satisfied: url-normalize>=1.4 in ./myenv/lib/python3.12/site-packages (from requests-cache~=1.2->chembl_webresource_client) (1.4.3)\n",
            "Requirement already satisfied: six in ./myenv/lib/python3.12/site-packages (from url-normalize>=1.4->requests-cache~=1.2->chembl_webresource_client) (1.16.0)\n"
          ]
        }
      ],
      "source": [
        "! pip install chembl_webresource_client"
      ]
    },
    {
      "cell_type": "markdown",
      "metadata": {
        "colab_type": "text",
        "id": "J0kJjL8gb5nX"
      },
      "source": [
        "## **Importing libraries**"
      ]
    },
    {
      "cell_type": "code",
      "execution_count": 26,
      "metadata": {
        "colab": {},
        "colab_type": "code",
        "id": "RXoCvMPPfNrv"
      },
      "outputs": [],
      "source": [
        "# Import necessary libraries\n",
        "import pandas as pd\n",
        "from chembl_webresource_client.new_client import new_client"
      ]
    },
    {
      "cell_type": "markdown",
      "metadata": {
        "colab_type": "text",
        "id": "1FgUai1bfigC"
      },
      "source": [
        "## **Search for Target protein**"
      ]
    },
    {
      "cell_type": "markdown",
      "metadata": {
        "colab_type": "text",
        "id": "7lBsDrD0gAqH"
      },
      "source": [
        "### **Target search for coronavirus**"
      ]
    },
    {
      "cell_type": "code",
      "execution_count": 27,
      "metadata": {
        "colab": {
          "base_uri": "https://localhost:8080/",
          "height": 145
        },
        "colab_type": "code",
        "id": "Vxtp79so4ZjF",
        "outputId": "e90dde45-1c0d-4fd9-f693-cb6e6032e2cd"
      },
      "outputs": [
        {
          "data": {
            "text/html": [
              "<div>\n",
              "<style scoped>\n",
              "    .dataframe tbody tr th:only-of-type {\n",
              "        vertical-align: middle;\n",
              "    }\n",
              "\n",
              "    .dataframe tbody tr th {\n",
              "        vertical-align: top;\n",
              "    }\n",
              "\n",
              "    .dataframe thead th {\n",
              "        text-align: right;\n",
              "    }\n",
              "</style>\n",
              "<table border=\"1\" class=\"dataframe\">\n",
              "  <thead>\n",
              "    <tr style=\"text-align: right;\">\n",
              "      <th></th>\n",
              "      <th>cross_references</th>\n",
              "      <th>organism</th>\n",
              "      <th>pref_name</th>\n",
              "      <th>score</th>\n",
              "      <th>species_group_flag</th>\n",
              "      <th>target_chembl_id</th>\n",
              "      <th>target_components</th>\n",
              "      <th>target_type</th>\n",
              "      <th>tax_id</th>\n",
              "    </tr>\n",
              "  </thead>\n",
              "  <tbody>\n",
              "    <tr>\n",
              "      <th>0</th>\n",
              "      <td>[]</td>\n",
              "      <td>Coronavirus</td>\n",
              "      <td>Coronavirus</td>\n",
              "      <td>17.0</td>\n",
              "      <td>False</td>\n",
              "      <td>CHEMBL613732</td>\n",
              "      <td>[]</td>\n",
              "      <td>ORGANISM</td>\n",
              "      <td>11119</td>\n",
              "    </tr>\n",
              "    <tr>\n",
              "      <th>1</th>\n",
              "      <td>[]</td>\n",
              "      <td>Feline coronavirus</td>\n",
              "      <td>Feline coronavirus</td>\n",
              "      <td>14.0</td>\n",
              "      <td>False</td>\n",
              "      <td>CHEMBL612744</td>\n",
              "      <td>[]</td>\n",
              "      <td>ORGANISM</td>\n",
              "      <td>12663</td>\n",
              "    </tr>\n",
              "    <tr>\n",
              "      <th>2</th>\n",
              "      <td>[]</td>\n",
              "      <td>Murine coronavirus</td>\n",
              "      <td>Murine coronavirus</td>\n",
              "      <td>14.0</td>\n",
              "      <td>False</td>\n",
              "      <td>CHEMBL5209664</td>\n",
              "      <td>[]</td>\n",
              "      <td>ORGANISM</td>\n",
              "      <td>694005</td>\n",
              "    </tr>\n",
              "    <tr>\n",
              "      <th>3</th>\n",
              "      <td>[]</td>\n",
              "      <td>Canine coronavirus</td>\n",
              "      <td>Canine coronavirus</td>\n",
              "      <td>14.0</td>\n",
              "      <td>False</td>\n",
              "      <td>CHEMBL5291668</td>\n",
              "      <td>[]</td>\n",
              "      <td>ORGANISM</td>\n",
              "      <td>11153</td>\n",
              "    </tr>\n",
              "    <tr>\n",
              "      <th>4</th>\n",
              "      <td>[]</td>\n",
              "      <td>Human coronavirus 229E</td>\n",
              "      <td>Human coronavirus 229E</td>\n",
              "      <td>13.0</td>\n",
              "      <td>False</td>\n",
              "      <td>CHEMBL613837</td>\n",
              "      <td>[]</td>\n",
              "      <td>ORGANISM</td>\n",
              "      <td>11137</td>\n",
              "    </tr>\n",
              "    <tr>\n",
              "      <th>5</th>\n",
              "      <td>[]</td>\n",
              "      <td>Human coronavirus OC43</td>\n",
              "      <td>Human coronavirus OC43</td>\n",
              "      <td>13.0</td>\n",
              "      <td>False</td>\n",
              "      <td>CHEMBL5209665</td>\n",
              "      <td>[]</td>\n",
              "      <td>ORGANISM</td>\n",
              "      <td>31631</td>\n",
              "    </tr>\n",
              "    <tr>\n",
              "      <th>6</th>\n",
              "      <td>[{'xref_id': 'P0C6U8', 'xref_name': None, 'xre...</td>\n",
              "      <td>SARS coronavirus</td>\n",
              "      <td>SARS coronavirus 3C-like proteinase</td>\n",
              "      <td>10.0</td>\n",
              "      <td>False</td>\n",
              "      <td>CHEMBL3927</td>\n",
              "      <td>[{'accession': 'P0C6U8', 'component_descriptio...</td>\n",
              "      <td>SINGLE PROTEIN</td>\n",
              "      <td>227859</td>\n",
              "    </tr>\n",
              "    <tr>\n",
              "      <th>7</th>\n",
              "      <td>[]</td>\n",
              "      <td>Middle East respiratory syndrome-related coron...</td>\n",
              "      <td>Middle East respiratory syndrome-related coron...</td>\n",
              "      <td>9.0</td>\n",
              "      <td>False</td>\n",
              "      <td>CHEMBL4296578</td>\n",
              "      <td>[]</td>\n",
              "      <td>ORGANISM</td>\n",
              "      <td>1335626</td>\n",
              "    </tr>\n",
              "    <tr>\n",
              "      <th>8</th>\n",
              "      <td>[{'xref_id': 'P0C6X7', 'xref_name': None, 'xre...</td>\n",
              "      <td>SARS coronavirus</td>\n",
              "      <td>Replicase polyprotein 1ab</td>\n",
              "      <td>4.0</td>\n",
              "      <td>False</td>\n",
              "      <td>CHEMBL5118</td>\n",
              "      <td>[{'accession': 'P0C6X7', 'component_descriptio...</td>\n",
              "      <td>SINGLE PROTEIN</td>\n",
              "      <td>227859</td>\n",
              "    </tr>\n",
              "    <tr>\n",
              "      <th>9</th>\n",
              "      <td>[]</td>\n",
              "      <td>Severe acute respiratory syndrome coronavirus 2</td>\n",
              "      <td>Replicase polyprotein 1ab</td>\n",
              "      <td>4.0</td>\n",
              "      <td>False</td>\n",
              "      <td>CHEMBL4523582</td>\n",
              "      <td>[{'accession': 'P0DTD1', 'component_descriptio...</td>\n",
              "      <td>SINGLE PROTEIN</td>\n",
              "      <td>2697049</td>\n",
              "    </tr>\n",
              "  </tbody>\n",
              "</table>\n",
              "</div>"
            ],
            "text/plain": [
              "                                    cross_references  \\\n",
              "0                                                 []   \n",
              "1                                                 []   \n",
              "2                                                 []   \n",
              "3                                                 []   \n",
              "4                                                 []   \n",
              "5                                                 []   \n",
              "6  [{'xref_id': 'P0C6U8', 'xref_name': None, 'xre...   \n",
              "7                                                 []   \n",
              "8  [{'xref_id': 'P0C6X7', 'xref_name': None, 'xre...   \n",
              "9                                                 []   \n",
              "\n",
              "                                            organism  \\\n",
              "0                                        Coronavirus   \n",
              "1                                 Feline coronavirus   \n",
              "2                                 Murine coronavirus   \n",
              "3                                 Canine coronavirus   \n",
              "4                             Human coronavirus 229E   \n",
              "5                             Human coronavirus OC43   \n",
              "6                                   SARS coronavirus   \n",
              "7  Middle East respiratory syndrome-related coron...   \n",
              "8                                   SARS coronavirus   \n",
              "9    Severe acute respiratory syndrome coronavirus 2   \n",
              "\n",
              "                                           pref_name  score  \\\n",
              "0                                        Coronavirus   17.0   \n",
              "1                                 Feline coronavirus   14.0   \n",
              "2                                 Murine coronavirus   14.0   \n",
              "3                                 Canine coronavirus   14.0   \n",
              "4                             Human coronavirus 229E   13.0   \n",
              "5                             Human coronavirus OC43   13.0   \n",
              "6                SARS coronavirus 3C-like proteinase   10.0   \n",
              "7  Middle East respiratory syndrome-related coron...    9.0   \n",
              "8                          Replicase polyprotein 1ab    4.0   \n",
              "9                          Replicase polyprotein 1ab    4.0   \n",
              "\n",
              "   species_group_flag target_chembl_id  \\\n",
              "0               False     CHEMBL613732   \n",
              "1               False     CHEMBL612744   \n",
              "2               False    CHEMBL5209664   \n",
              "3               False    CHEMBL5291668   \n",
              "4               False     CHEMBL613837   \n",
              "5               False    CHEMBL5209665   \n",
              "6               False       CHEMBL3927   \n",
              "7               False    CHEMBL4296578   \n",
              "8               False       CHEMBL5118   \n",
              "9               False    CHEMBL4523582   \n",
              "\n",
              "                                   target_components     target_type   tax_id  \n",
              "0                                                 []        ORGANISM    11119  \n",
              "1                                                 []        ORGANISM    12663  \n",
              "2                                                 []        ORGANISM   694005  \n",
              "3                                                 []        ORGANISM    11153  \n",
              "4                                                 []        ORGANISM    11137  \n",
              "5                                                 []        ORGANISM    31631  \n",
              "6  [{'accession': 'P0C6U8', 'component_descriptio...  SINGLE PROTEIN   227859  \n",
              "7                                                 []        ORGANISM  1335626  \n",
              "8  [{'accession': 'P0C6X7', 'component_descriptio...  SINGLE PROTEIN   227859  \n",
              "9  [{'accession': 'P0DTD1', 'component_descriptio...  SINGLE PROTEIN  2697049  "
            ]
          },
          "execution_count": 27,
          "metadata": {},
          "output_type": "execute_result"
        }
      ],
      "source": [
        "# Target search for coronavirus\n",
        "target = new_client.target\n",
        "target_query = target.search('coronavirus')\n",
        "targets = pd.DataFrame.from_dict(target_query)\n",
        "targets"
      ]
    },
    {
      "cell_type": "markdown",
      "metadata": {
        "colab_type": "text",
        "id": "Y5OPfEALjAfZ"
      },
      "source": [
        "### **Select and retrieve bioactivity data for *SARS coronavirus 3C-like proteinase* (fifth entry)**"
      ]
    },
    {
      "cell_type": "markdown",
      "metadata": {
        "colab_type": "text",
        "id": "gSQ3aroOgML7"
      },
      "source": [
        "We will assign the fifth entry (which corresponds to the target protein, *coronavirus 3C-like proteinase*) to the ***selected_target*** variable "
      ]
    },
    {
      "cell_type": "code",
      "execution_count": 28,
      "metadata": {
        "colab": {
          "base_uri": "https://localhost:8080/",
          "height": 35
        },
        "colab_type": "code",
        "id": "StrcHMVLha7u",
        "outputId": "a558535b-c66a-42ce-8604-3cf34dbff90b"
      },
      "outputs": [
        {
          "data": {
            "text/plain": [
              "'CHEMBL613837'"
            ]
          },
          "execution_count": 28,
          "metadata": {},
          "output_type": "execute_result"
        }
      ],
      "source": [
        "selected_target = targets.target_chembl_id[4]\n",
        "selected_target"
      ]
    },
    {
      "cell_type": "markdown",
      "metadata": {
        "colab_type": "text",
        "id": "GWd2DRalgjzB"
      },
      "source": [
        "Here, we will retrieve only bioactivity data for *coronavirus 3C-like proteinase* (CHEMBL3927) that are reported as IC$_{50}$ values in nM (nanomolar) unit."
      ]
    },
    {
      "cell_type": "code",
      "execution_count": 29,
      "metadata": {
        "colab": {},
        "colab_type": "code",
        "id": "LeFbV_CsSP8D"
      },
      "outputs": [],
      "source": [
        "activity = new_client.activity\n",
        "res = activity.filter(target_chembl_id=selected_target).filter(standard_type=\"IC50\")"
      ]
    },
    {
      "cell_type": "code",
      "execution_count": 30,
      "metadata": {
        "colab": {},
        "colab_type": "code",
        "id": "RC4T-NEmSWV-"
      },
      "outputs": [],
      "source": [
        "df = pd.DataFrame.from_dict(res)"
      ]
    },
    {
      "cell_type": "code",
      "execution_count": 31,
      "metadata": {
        "colab": {
          "base_uri": "https://localhost:8080/",
          "height": 265
        },
        "colab_type": "code",
        "id": "s9iUAXFdSkoM",
        "outputId": "c9b681cc-97ab-40fb-a735-5e2b39612f8c"
      },
      "outputs": [
        {
          "data": {
            "text/html": [
              "<div>\n",
              "<style scoped>\n",
              "    .dataframe tbody tr th:only-of-type {\n",
              "        vertical-align: middle;\n",
              "    }\n",
              "\n",
              "    .dataframe tbody tr th {\n",
              "        vertical-align: top;\n",
              "    }\n",
              "\n",
              "    .dataframe thead th {\n",
              "        text-align: right;\n",
              "    }\n",
              "</style>\n",
              "<table border=\"1\" class=\"dataframe\">\n",
              "  <thead>\n",
              "    <tr style=\"text-align: right;\">\n",
              "      <th></th>\n",
              "      <th>action_type</th>\n",
              "      <th>activity_comment</th>\n",
              "      <th>activity_id</th>\n",
              "      <th>activity_properties</th>\n",
              "      <th>assay_chembl_id</th>\n",
              "      <th>assay_description</th>\n",
              "      <th>assay_type</th>\n",
              "      <th>assay_variant_accession</th>\n",
              "      <th>assay_variant_mutation</th>\n",
              "      <th>bao_endpoint</th>\n",
              "      <th>...</th>\n",
              "      <th>target_organism</th>\n",
              "      <th>target_pref_name</th>\n",
              "      <th>target_tax_id</th>\n",
              "      <th>text_value</th>\n",
              "      <th>toid</th>\n",
              "      <th>type</th>\n",
              "      <th>units</th>\n",
              "      <th>uo_units</th>\n",
              "      <th>upper_value</th>\n",
              "      <th>value</th>\n",
              "    </tr>\n",
              "  </thead>\n",
              "  <tbody>\n",
              "    <tr>\n",
              "      <th>0</th>\n",
              "      <td>None</td>\n",
              "      <td>None</td>\n",
              "      <td>22804102</td>\n",
              "      <td>[{'comments': None, 'relation': '=', 'result_f...</td>\n",
              "      <td>CHEMBL4712028</td>\n",
              "      <td>Antiviral activity against HCoV-229E infected ...</td>\n",
              "      <td>F</td>\n",
              "      <td>None</td>\n",
              "      <td>None</td>\n",
              "      <td>BAO_0000190</td>\n",
              "      <td>...</td>\n",
              "      <td>Human coronavirus 229E</td>\n",
              "      <td>Human coronavirus 229E</td>\n",
              "      <td>11137</td>\n",
              "      <td>None</td>\n",
              "      <td>None</td>\n",
              "      <td>IC50</td>\n",
              "      <td>uM</td>\n",
              "      <td>UO_0000065</td>\n",
              "      <td>None</td>\n",
              "      <td>1.7</td>\n",
              "    </tr>\n",
              "    <tr>\n",
              "      <th>1</th>\n",
              "      <td>None</td>\n",
              "      <td>None</td>\n",
              "      <td>24984054</td>\n",
              "      <td>[{'comments': None, 'relation': '&lt;=', 'result_...</td>\n",
              "      <td>CHEMBL5227023</td>\n",
              "      <td>Antiviral activity against recombinant HCoV-22...</td>\n",
              "      <td>F</td>\n",
              "      <td>None</td>\n",
              "      <td>None</td>\n",
              "      <td>BAO_0000190</td>\n",
              "      <td>...</td>\n",
              "      <td>Human coronavirus 229E</td>\n",
              "      <td>Human coronavirus 229E</td>\n",
              "      <td>11137</td>\n",
              "      <td>None</td>\n",
              "      <td>None</td>\n",
              "      <td>IC50</td>\n",
              "      <td>uM</td>\n",
              "      <td>UO_0000065</td>\n",
              "      <td>None</td>\n",
              "      <td>0.7</td>\n",
              "    </tr>\n",
              "    <tr>\n",
              "      <th>2</th>\n",
              "      <td>None</td>\n",
              "      <td>None</td>\n",
              "      <td>24992649</td>\n",
              "      <td>[]</td>\n",
              "      <td>CHEMBL5230448</td>\n",
              "      <td>Antiviral activity against HCoV-229E</td>\n",
              "      <td>F</td>\n",
              "      <td>None</td>\n",
              "      <td>None</td>\n",
              "      <td>BAO_0000190</td>\n",
              "      <td>...</td>\n",
              "      <td>Human coronavirus 229E</td>\n",
              "      <td>Human coronavirus 229E</td>\n",
              "      <td>11137</td>\n",
              "      <td>None</td>\n",
              "      <td>None</td>\n",
              "      <td>IC50</td>\n",
              "      <td>uM</td>\n",
              "      <td>UO_0000065</td>\n",
              "      <td>None</td>\n",
              "      <td>3.35</td>\n",
              "    </tr>\n",
              "  </tbody>\n",
              "</table>\n",
              "<p>3 rows × 46 columns</p>\n",
              "</div>"
            ],
            "text/plain": [
              "  action_type activity_comment  activity_id  \\\n",
              "0        None             None     22804102   \n",
              "1        None             None     24984054   \n",
              "2        None             None     24992649   \n",
              "\n",
              "                                 activity_properties assay_chembl_id  \\\n",
              "0  [{'comments': None, 'relation': '=', 'result_f...   CHEMBL4712028   \n",
              "1  [{'comments': None, 'relation': '<=', 'result_...   CHEMBL5227023   \n",
              "2                                                 []   CHEMBL5230448   \n",
              "\n",
              "                                   assay_description assay_type  \\\n",
              "0  Antiviral activity against HCoV-229E infected ...          F   \n",
              "1  Antiviral activity against recombinant HCoV-22...          F   \n",
              "2               Antiviral activity against HCoV-229E          F   \n",
              "\n",
              "  assay_variant_accession assay_variant_mutation bao_endpoint  ...  \\\n",
              "0                    None                   None  BAO_0000190  ...   \n",
              "1                    None                   None  BAO_0000190  ...   \n",
              "2                    None                   None  BAO_0000190  ...   \n",
              "\n",
              "          target_organism        target_pref_name target_tax_id text_value  \\\n",
              "0  Human coronavirus 229E  Human coronavirus 229E         11137       None   \n",
              "1  Human coronavirus 229E  Human coronavirus 229E         11137       None   \n",
              "2  Human coronavirus 229E  Human coronavirus 229E         11137       None   \n",
              "\n",
              "   toid  type units    uo_units upper_value value  \n",
              "0  None  IC50    uM  UO_0000065        None   1.7  \n",
              "1  None  IC50    uM  UO_0000065        None   0.7  \n",
              "2  None  IC50    uM  UO_0000065        None  3.35  \n",
              "\n",
              "[3 rows x 46 columns]"
            ]
          },
          "execution_count": 31,
          "metadata": {},
          "output_type": "execute_result"
        }
      ],
      "source": [
        "df.head(3)"
      ]
    },
    {
      "cell_type": "code",
      "execution_count": 32,
      "metadata": {
        "colab": {
          "base_uri": "https://localhost:8080/",
          "height": 35
        },
        "colab_type": "code",
        "id": "oNtBv36dYhxy",
        "outputId": "db6a7832-55eb-484c-b56c-98cdcd5944dd"
      },
      "outputs": [
        {
          "data": {
            "text/plain": [
              "array(['IC50'], dtype=object)"
            ]
          },
          "execution_count": 32,
          "metadata": {},
          "output_type": "execute_result"
        }
      ],
      "source": [
        "df.standard_type.unique()"
      ]
    },
    {
      "cell_type": "markdown",
      "metadata": {
        "colab_type": "text",
        "id": "fQ78N26Fg15T"
      },
      "source": [
        "Finally we will save the resulting bioactivity data to a CSV file **bioactivity_data.csv**."
      ]
    },
    {
      "cell_type": "code",
      "execution_count": 33,
      "metadata": {
        "colab": {},
        "colab_type": "code",
        "id": "ZvUUEIVxTOH1"
      },
      "outputs": [],
      "source": [
        "df.to_csv('bioactivity_data.csv', index=False)"
      ]
    },
    {
      "cell_type": "markdown",
      "metadata": {
        "colab_type": "text",
        "id": "BOrSrTGjOWU7"
      },
      "source": [
        "## **Copying files to Google Drive**"
      ]
    },
    {
      "cell_type": "markdown",
      "metadata": {
        "colab_type": "text",
        "id": "PRputWaI7ZW7"
      },
      "source": [
        "Firstly, we need to mount the Google Drive into Colab so that we can have access to our Google adrive from within Colab."
      ]
    },
    {
      "cell_type": "code",
      "execution_count": 34,
      "metadata": {
        "colab": {
          "base_uri": "https://localhost:8080/",
          "height": 124
        },
        "colab_type": "code",
        "id": "6RBX658q65A5",
        "outputId": "04a014cd-9f34-4a8f-e45f-50b380d9d41b"
      },
      "outputs": [
        {
          "ename": "ModuleNotFoundError",
          "evalue": "No module named 'google'",
          "output_type": "error",
          "traceback": [
            "\u001b[0;31m---------------------------------------------------------------------------\u001b[0m",
            "\u001b[0;31mModuleNotFoundError\u001b[0m                       Traceback (most recent call last)",
            "Cell \u001b[0;32mIn[34], line 1\u001b[0m\n\u001b[0;32m----> 1\u001b[0m \u001b[38;5;28;01mfrom\u001b[39;00m \u001b[38;5;21;01mgoogle\u001b[39;00m\u001b[38;5;21;01m.\u001b[39;00m\u001b[38;5;21;01mcolab\u001b[39;00m \u001b[38;5;28;01mimport\u001b[39;00m drive\n\u001b[1;32m      2\u001b[0m drive\u001b[38;5;241m.\u001b[39mmount(\u001b[38;5;124m'\u001b[39m\u001b[38;5;124m/content/gdrive/\u001b[39m\u001b[38;5;124m'\u001b[39m, force_remount\u001b[38;5;241m=\u001b[39m\u001b[38;5;28;01mTrue\u001b[39;00m)\n",
            "\u001b[0;31mModuleNotFoundError\u001b[0m: No module named 'google'"
          ]
        }
      ],
      "source": [
        "from google.colab import drive\n",
        "drive.mount('/content/gdrive/', force_remount=True)\n"
      ]
    },
    {
      "cell_type": "markdown",
      "metadata": {
        "colab_type": "text",
        "id": "CMlY0xudN1mL"
      },
      "source": [
        "Next, we create a **data** folder in our **Colab Notebooks** folder on Google Drive."
      ]
    },
    {
      "cell_type": "code",
      "execution_count": null,
      "metadata": {
        "colab": {},
        "colab_type": "code",
        "id": "tew-UtUWIS__"
      },
      "outputs": [],
      "source": [
        "! mkdir \"/content/gdrive/My Drive/Colab Notebooks/data2\""
      ]
    },
    {
      "cell_type": "code",
      "execution_count": null,
      "metadata": {
        "colab": {},
        "colab_type": "code",
        "id": "YDMBpK2XJ_rJ"
      },
      "outputs": [],
      "source": [
        "! cp bioactivity_data.csv \"/content/gdrive/My Drive/Colab Notebooks/data\""
      ]
    },
    {
      "cell_type": "code",
      "execution_count": null,
      "metadata": {
        "colab": {
          "base_uri": "https://localhost:8080/",
          "height": 52
        },
        "colab_type": "code",
        "id": "iRIr1QiEJtuw",
        "outputId": "e400f4d9-3ce7-4822-8837-33eb2499c1c1"
      },
      "outputs": [
        {
          "name": "stdout",
          "output_type": "stream",
          "text": [
            "total 69\n",
            "-rw------- 1 root root 70010 Apr 29 17:10 bioactivity_data.csv\n"
          ]
        }
      ],
      "source": [
        "! ls -l \"/content/gdrive/My Drive/Colab Notebooks/data\""
      ]
    },
    {
      "cell_type": "markdown",
      "metadata": {
        "colab_type": "text",
        "id": "z9NwrYJni8CH"
      },
      "source": [
        "Let's see the CSV files that we have so far."
      ]
    },
    {
      "cell_type": "code",
      "execution_count": null,
      "metadata": {
        "colab": {
          "base_uri": "https://localhost:8080/",
          "height": 35
        },
        "colab_type": "code",
        "id": "FO3cZC5vnCht",
        "outputId": "f5e07f1f-7a24-4d8e-ca52-e5e36e4daea1"
      },
      "outputs": [
        {
          "name": "stdout",
          "output_type": "stream",
          "text": [
            "bioactivity_data.csv  gdrive  sample_data\n"
          ]
        }
      ],
      "source": [
        "! ls"
      ]
    },
    {
      "cell_type": "markdown",
      "metadata": {
        "colab_type": "text",
        "id": "7UAasSu5jAeB"
      },
      "source": [
        "Taking a glimpse of the **bioactivity_data.csv** file that we've just created."
      ]
    },
    {
      "cell_type": "code",
      "execution_count": null,
      "metadata": {
        "colab": {
          "base_uri": "https://localhost:8080/",
          "height": 211
        },
        "colab_type": "code",
        "id": "jwEJjx5b5gAn",
        "outputId": "69dce8c6-565d-4537-952e-b01da9f2fd83"
      },
      "outputs": [
        {
          "name": "stdout",
          "output_type": "stream",
          "text": [
            "action_type,activity_comment,activity_id,activity_properties,assay_chembl_id,assay_description,assay_type,assay_variant_accession,assay_variant_mutation,bao_endpoint,bao_format,bao_label,canonical_smiles,data_validity_comment,data_validity_description,document_chembl_id,document_journal,document_year,ligand_efficiency,molecule_chembl_id,molecule_pref_name,parent_molecule_chembl_id,pchembl_value,potential_duplicate,qudt_units,record_id,relation,src_id,standard_flag,standard_relation,standard_text_value,standard_type,standard_units,standard_upper_value,standard_value,target_chembl_id,target_organism,target_pref_name,target_tax_id,text_value,toid,type,units,uo_units,upper_value,value\n",
            ",,22804102,\"[{'comments': None, 'relation': '=', 'result_flag': 0, 'standard_relation': '=', 'standard_text_value': None, 'standard_type': 'TIME', 'standard_units': 'hr', 'standard_value': '2.0', 'text_value': None, 'type': 'Time', 'units': 'hrs', 'value': '2.0'}]\",CHEMBL4712028,Antiviral activity against HCoV-229E infected in human MRC5 cells incubated for 2 hrs by XTT method,F,,,BAO_0000190,BAO_0000218,organism-based format,C[C@H]1O[C@@](O)(O[C@H]2CC[C@@]3(C)[C@@H](CC[C@]4(C)[C@@H]3C=CC3=C5CC(C)(C)CC[C@]5(CO)[C@H](O)C[C@]34C)[C@]2(C)CO)[C@H](O)[C@@H](O[C@@H]2O[C@H](CO)[C@@H](O)[C@H](O)[C@H]2O)[C@H]1O,,,CHEMBL4706626,J Med Chem,2020,,CHEMBL4763715,,CHEMBL4763715,5.77,0,http://www.openphacts.org/units/Nanomolar,3541286,=,1,1,=,,IC50,nM,,1700.0,CHEMBL613837,Human coronavirus 229E,Human coronavirus 229E,11137,,,IC50,uM,UO_0000065,,1.7\n",
            ",,24984054,\"[{'comments': None, 'relation': '<=', 'result_flag': 0, 'standard_relation': '<=', 'standard_text_value': None, 'standard_type': 'TIME', 'standard_units': 'hr', 'standard_value': '72.0', 'text_value': None, 'type': 'TIME', 'units': 'day', 'value': '3.0'}]\",CHEMBL5227023,Antiviral activity against recombinant HCoV-229E infected in MRC5 cells assessed as inhibition of plaque formation incubated upto 3 days by crystal violet staining based plaque-reduction assay,F,,,BAO_0000190,BAO_0000218,organism-based format,O=C(NC(Cc1ccccc1)C(=O)N1CCC(O)(c2ccc(Br)cc2)CC1)c1ccccc1,,,CHEMBL5226291,Eur J Med Chem,2021,,CHEMBL5270175,,CHEMBL5270175,6.16,0,http://www.openphacts.org/units/Nanomolar,3905717,=,1,1,=,,IC50,nM,,700.0,CHEMBL613837,Human coronavirus 229E,Human coronavirus 229E,11137,,,IC50,uM,UO_0000065,,0.7\n",
            ",,24992649,[],CHEMBL5230448,Antiviral activity against HCoV-229E,F,,,BAO_0000190,BAO_0000218,organism-based format,CC[C@H](C)[C@H](NC(=O)[C@H](C)NC(=O)[C@H](CCC(=O)O)NC(=O)[C@H](CCC(=O)O)NC(=O)[C@H](CC(C)C)NC(=O)[C@H](CCCCN)NC(=O)[C@H](CCCCN)NC(=O)[C@H](CCSC)NC(=O)[C@H](CCC(=O)O)NC(=O)[C@H](Cc1ccc(O)cc1)NC(=O)[C@H](CCC(=O)O)NC(=O)[C@H](CC(C)C)NC(=O)[C@H](CC(=O)O)NC(=O)[C@H](CC(C)C)NC(=O)[C@H](Cc1ccccc1)NC(=O)[C@@H](NC(=O)[C@@H](NC(=O)[C@H](CC(N)=O)NC(=O)[C@@H](NC(=O)[C@H](CCC(N)=O)NC(=O)[C@H](CC(=O)O)NC(=O)[C@H](CC(C)C)NC(=O)[C@@H](N)CO)[C@@H](C)CC)C(C)C)[C@@H](C)O)C(=O)N[C@@H](CCCCN)C(=O)N[C@@H](CCCCN)C(=O)N[C@@H](CC(C)C)C(=O)N[C@@H](CCC(=O)O)C(=O)N[C@@H](CCC(=O)O)C(=O)N[C@@H](CO)C(=O)N[C@@H](Cc1ccc(O)cc1)C(=O)N[C@H](C(=O)N[C@@H](CC(=O)O)C(=O)N[C@@H](CC(C)C)C(=O)N[C@@H](CCCCN)C(=O)N[C@@H](CCC(=O)O)C(=O)N[C@@H](CC(C)C)C(=O)O)[C@@H](C)CC,,,CHEMBL5230087,J Med Chem,2020,,CHEMBL5283406,,CHEMBL5283406,5.47,0,http://www.openphacts.org/units/Nanomolar,3908151,=,1,1,=,,IC50,nM,,3350.0,CHEMBL613837,Human coronavirus 229E,Human coronavirus 229E,11137,,,IC50,uM,UO_0000065,,3.35\n",
            ",,24992650,[],CHEMBL5230448,Antiviral activity against HCoV-229E,F,,,BAO_0000190,BAO_0000218,organism-based format,CN1CCN(C(=O)N[C@@H](Cc2ccccc2)C(=O)N[C@H](/C=C/S(=O)(=O)c2ccccc2)CCc2ccccc2)CC1,,,CHEMBL5230087,J Med Chem,2020,,CHEMBL91704,K-777,CHEMBL91704,8.83,0,http://www.openphacts.org/units/Nanomolar,3908152,=,1,1,=,,IC50,nM,,1.48,CHEMBL613837,Human coronavirus 229E,Human coronavirus 229E,11137,,,IC50,nM,UO_0000065,,1.48\n",
            ",,24992680,\"[{'comments': None, 'relation': '=', 'result_flag': 0, 'standard_relation': '=', 'standard_text_value': None, 'standard_type': 'DOSE', 'standard_units': 'microM', 'standard_value': '4.0', 'text_value': None, 'type': 'DOSE', 'units': 'microM', 'value': '4.0'}]\",CHEMBL5230463,Antiviral activity against HCoV-229E assessed as reduction of viral RNA level at 4 uM,F,,,BAO_0000190,BAO_0000218,organism-based format,CN1CCN(CCOc2cc(OC3CCOCC3)c3c(Nc4c(Cl)ccc5c4OCO5)ncnc3c2)CC1,,,CHEMBL5230087,J Med Chem,2020,,CHEMBL217092,SARACATINIB,CHEMBL217092,5.29,0,http://www.openphacts.org/units/Nanomolar,3908161,=,1,1,=,,IC50,nM,,5100.0,CHEMBL613837,Human coronavirus 229E,Human coronavirus 229E,11137,,,IC50,uM,UO_0000065,,5.1\n",
            ",,25080001,\"[{'comments': None, 'relation': '=', 'result_flag': 0, 'standard_relation': '=', 'standard_text_value': None, 'standard_type': 'TIME', 'standard_units': 'hr', 'standard_value': '7.0', 'text_value': None, 'type': 'TIME', 'units': 'hrs', 'value': '7.0'}]\",CHEMBL5255429,Antiviral activity against HCoV-229E harboring luciferase reporter gene infected in human Huh-7 cells assessed as reduction in viral replication pre-incubated for 1 hrs followed by replacement with fresh media for 6 hrs by renilla luciferase based luminometer analysis,F,,,BAO_0000190,BAO_0000218,organism-based format,C=C(C=O)[C@H]1CC=C2[C@H](OC(=O)/C(C)=C/CCCCCCC)CC[C@H](C(=O)O)[C@@]2(C)C1,,,CHEMBL5252608,J Nat Prod,2023,,CHEMBL5278230,,CHEMBL5278230,4.74,0,http://www.openphacts.org/units/Nanomolar,3931546,=,1,1,=,,IC50,nM,,18100.0,CHEMBL613837,Human coronavirus 229E,Human coronavirus 229E,11137,,,IC50,uM,UO_0000065,,18.1\n"
          ]
        }
      ],
      "source": [
        "! head bioactivity_data.csv"
      ]
    },
    {
      "cell_type": "markdown",
      "metadata": {
        "colab_type": "text",
        "id": "_GXMpFNUOn_8"
      },
      "source": [
        "## **Handling missing data**\n",
        "If any compounds has missing value for the **standard_value** column then drop it"
      ]
    },
    {
      "cell_type": "code",
      "execution_count": null,
      "metadata": {
        "colab": {
          "base_uri": "https://localhost:8080/",
          "height": 782
        },
        "colab_type": "code",
        "id": "hkVOdk6ZR396",
        "outputId": "fc08d57e-f832-4cb0-90f2-dc7394b0209d"
      },
      "outputs": [
        {
          "data": {
            "text/html": [
              "<div>\n",
              "<style scoped>\n",
              "    .dataframe tbody tr th:only-of-type {\n",
              "        vertical-align: middle;\n",
              "    }\n",
              "\n",
              "    .dataframe tbody tr th {\n",
              "        vertical-align: top;\n",
              "    }\n",
              "\n",
              "    .dataframe thead th {\n",
              "        text-align: right;\n",
              "    }\n",
              "</style>\n",
              "<table border=\"1\" class=\"dataframe\">\n",
              "  <thead>\n",
              "    <tr style=\"text-align: right;\">\n",
              "      <th></th>\n",
              "      <th>action_type</th>\n",
              "      <th>activity_comment</th>\n",
              "      <th>activity_id</th>\n",
              "      <th>activity_properties</th>\n",
              "      <th>assay_chembl_id</th>\n",
              "      <th>assay_description</th>\n",
              "      <th>assay_type</th>\n",
              "      <th>assay_variant_accession</th>\n",
              "      <th>assay_variant_mutation</th>\n",
              "      <th>bao_endpoint</th>\n",
              "      <th>...</th>\n",
              "      <th>target_organism</th>\n",
              "      <th>target_pref_name</th>\n",
              "      <th>target_tax_id</th>\n",
              "      <th>text_value</th>\n",
              "      <th>toid</th>\n",
              "      <th>type</th>\n",
              "      <th>units</th>\n",
              "      <th>uo_units</th>\n",
              "      <th>upper_value</th>\n",
              "      <th>value</th>\n",
              "    </tr>\n",
              "  </thead>\n",
              "  <tbody>\n",
              "    <tr>\n",
              "      <th>0</th>\n",
              "      <td>None</td>\n",
              "      <td>None</td>\n",
              "      <td>22804102</td>\n",
              "      <td>[{'comments': None, 'relation': '=', 'result_f...</td>\n",
              "      <td>CHEMBL4712028</td>\n",
              "      <td>Antiviral activity against HCoV-229E infected ...</td>\n",
              "      <td>F</td>\n",
              "      <td>None</td>\n",
              "      <td>None</td>\n",
              "      <td>BAO_0000190</td>\n",
              "      <td>...</td>\n",
              "      <td>Human coronavirus 229E</td>\n",
              "      <td>Human coronavirus 229E</td>\n",
              "      <td>11137</td>\n",
              "      <td>None</td>\n",
              "      <td>None</td>\n",
              "      <td>IC50</td>\n",
              "      <td>uM</td>\n",
              "      <td>UO_0000065</td>\n",
              "      <td>None</td>\n",
              "      <td>1.7</td>\n",
              "    </tr>\n",
              "    <tr>\n",
              "      <th>1</th>\n",
              "      <td>None</td>\n",
              "      <td>None</td>\n",
              "      <td>24984054</td>\n",
              "      <td>[{'comments': None, 'relation': '&lt;=', 'result_...</td>\n",
              "      <td>CHEMBL5227023</td>\n",
              "      <td>Antiviral activity against recombinant HCoV-22...</td>\n",
              "      <td>F</td>\n",
              "      <td>None</td>\n",
              "      <td>None</td>\n",
              "      <td>BAO_0000190</td>\n",
              "      <td>...</td>\n",
              "      <td>Human coronavirus 229E</td>\n",
              "      <td>Human coronavirus 229E</td>\n",
              "      <td>11137</td>\n",
              "      <td>None</td>\n",
              "      <td>None</td>\n",
              "      <td>IC50</td>\n",
              "      <td>uM</td>\n",
              "      <td>UO_0000065</td>\n",
              "      <td>None</td>\n",
              "      <td>0.7</td>\n",
              "    </tr>\n",
              "    <tr>\n",
              "      <th>2</th>\n",
              "      <td>None</td>\n",
              "      <td>None</td>\n",
              "      <td>24992649</td>\n",
              "      <td>[]</td>\n",
              "      <td>CHEMBL5230448</td>\n",
              "      <td>Antiviral activity against HCoV-229E</td>\n",
              "      <td>F</td>\n",
              "      <td>None</td>\n",
              "      <td>None</td>\n",
              "      <td>BAO_0000190</td>\n",
              "      <td>...</td>\n",
              "      <td>Human coronavirus 229E</td>\n",
              "      <td>Human coronavirus 229E</td>\n",
              "      <td>11137</td>\n",
              "      <td>None</td>\n",
              "      <td>None</td>\n",
              "      <td>IC50</td>\n",
              "      <td>uM</td>\n",
              "      <td>UO_0000065</td>\n",
              "      <td>None</td>\n",
              "      <td>3.35</td>\n",
              "    </tr>\n",
              "    <tr>\n",
              "      <th>3</th>\n",
              "      <td>None</td>\n",
              "      <td>None</td>\n",
              "      <td>24992650</td>\n",
              "      <td>[]</td>\n",
              "      <td>CHEMBL5230448</td>\n",
              "      <td>Antiviral activity against HCoV-229E</td>\n",
              "      <td>F</td>\n",
              "      <td>None</td>\n",
              "      <td>None</td>\n",
              "      <td>BAO_0000190</td>\n",
              "      <td>...</td>\n",
              "      <td>Human coronavirus 229E</td>\n",
              "      <td>Human coronavirus 229E</td>\n",
              "      <td>11137</td>\n",
              "      <td>None</td>\n",
              "      <td>None</td>\n",
              "      <td>IC50</td>\n",
              "      <td>nM</td>\n",
              "      <td>UO_0000065</td>\n",
              "      <td>None</td>\n",
              "      <td>1.48</td>\n",
              "    </tr>\n",
              "    <tr>\n",
              "      <th>4</th>\n",
              "      <td>None</td>\n",
              "      <td>None</td>\n",
              "      <td>24992680</td>\n",
              "      <td>[{'comments': None, 'relation': '=', 'result_f...</td>\n",
              "      <td>CHEMBL5230463</td>\n",
              "      <td>Antiviral activity against HCoV-229E assessed ...</td>\n",
              "      <td>F</td>\n",
              "      <td>None</td>\n",
              "      <td>None</td>\n",
              "      <td>BAO_0000190</td>\n",
              "      <td>...</td>\n",
              "      <td>Human coronavirus 229E</td>\n",
              "      <td>Human coronavirus 229E</td>\n",
              "      <td>11137</td>\n",
              "      <td>None</td>\n",
              "      <td>None</td>\n",
              "      <td>IC50</td>\n",
              "      <td>uM</td>\n",
              "      <td>UO_0000065</td>\n",
              "      <td>None</td>\n",
              "      <td>5.1</td>\n",
              "    </tr>\n",
              "    <tr>\n",
              "      <th>5</th>\n",
              "      <td>None</td>\n",
              "      <td>None</td>\n",
              "      <td>25080001</td>\n",
              "      <td>[{'comments': None, 'relation': '=', 'result_f...</td>\n",
              "      <td>CHEMBL5255429</td>\n",
              "      <td>Antiviral activity against HCoV-229E harboring...</td>\n",
              "      <td>F</td>\n",
              "      <td>None</td>\n",
              "      <td>None</td>\n",
              "      <td>BAO_0000190</td>\n",
              "      <td>...</td>\n",
              "      <td>Human coronavirus 229E</td>\n",
              "      <td>Human coronavirus 229E</td>\n",
              "      <td>11137</td>\n",
              "      <td>None</td>\n",
              "      <td>None</td>\n",
              "      <td>IC50</td>\n",
              "      <td>uM</td>\n",
              "      <td>UO_0000065</td>\n",
              "      <td>None</td>\n",
              "      <td>18.1</td>\n",
              "    </tr>\n",
              "  </tbody>\n",
              "</table>\n",
              "<p>6 rows × 46 columns</p>\n",
              "</div>"
            ],
            "text/plain": [
              "  action_type activity_comment  activity_id  \\\n",
              "0        None             None     22804102   \n",
              "1        None             None     24984054   \n",
              "2        None             None     24992649   \n",
              "3        None             None     24992650   \n",
              "4        None             None     24992680   \n",
              "5        None             None     25080001   \n",
              "\n",
              "                                 activity_properties assay_chembl_id  \\\n",
              "0  [{'comments': None, 'relation': '=', 'result_f...   CHEMBL4712028   \n",
              "1  [{'comments': None, 'relation': '<=', 'result_...   CHEMBL5227023   \n",
              "2                                                 []   CHEMBL5230448   \n",
              "3                                                 []   CHEMBL5230448   \n",
              "4  [{'comments': None, 'relation': '=', 'result_f...   CHEMBL5230463   \n",
              "5  [{'comments': None, 'relation': '=', 'result_f...   CHEMBL5255429   \n",
              "\n",
              "                                   assay_description assay_type  \\\n",
              "0  Antiviral activity against HCoV-229E infected ...          F   \n",
              "1  Antiviral activity against recombinant HCoV-22...          F   \n",
              "2               Antiviral activity against HCoV-229E          F   \n",
              "3               Antiviral activity against HCoV-229E          F   \n",
              "4  Antiviral activity against HCoV-229E assessed ...          F   \n",
              "5  Antiviral activity against HCoV-229E harboring...          F   \n",
              "\n",
              "  assay_variant_accession assay_variant_mutation bao_endpoint  ...  \\\n",
              "0                    None                   None  BAO_0000190  ...   \n",
              "1                    None                   None  BAO_0000190  ...   \n",
              "2                    None                   None  BAO_0000190  ...   \n",
              "3                    None                   None  BAO_0000190  ...   \n",
              "4                    None                   None  BAO_0000190  ...   \n",
              "5                    None                   None  BAO_0000190  ...   \n",
              "\n",
              "          target_organism        target_pref_name target_tax_id text_value  \\\n",
              "0  Human coronavirus 229E  Human coronavirus 229E         11137       None   \n",
              "1  Human coronavirus 229E  Human coronavirus 229E         11137       None   \n",
              "2  Human coronavirus 229E  Human coronavirus 229E         11137       None   \n",
              "3  Human coronavirus 229E  Human coronavirus 229E         11137       None   \n",
              "4  Human coronavirus 229E  Human coronavirus 229E         11137       None   \n",
              "5  Human coronavirus 229E  Human coronavirus 229E         11137       None   \n",
              "\n",
              "   toid  type units    uo_units upper_value value  \n",
              "0  None  IC50    uM  UO_0000065        None   1.7  \n",
              "1  None  IC50    uM  UO_0000065        None   0.7  \n",
              "2  None  IC50    uM  UO_0000065        None  3.35  \n",
              "3  None  IC50    nM  UO_0000065        None  1.48  \n",
              "4  None  IC50    uM  UO_0000065        None   5.1  \n",
              "5  None  IC50    uM  UO_0000065        None  18.1  \n",
              "\n",
              "[6 rows x 46 columns]"
            ]
          },
          "execution_count": 17,
          "metadata": {},
          "output_type": "execute_result"
        }
      ],
      "source": [
        "df2 = df[df.standard_value.notna()]\n",
        "df2"
      ]
    },
    {
      "cell_type": "markdown",
      "metadata": {
        "colab_type": "text",
        "id": "Y-qNsUlmjS25"
      },
      "source": [
        "Apparently, for this dataset there is no missing data. But we can use the above code cell for bioactivity data of other target protein."
      ]
    },
    {
      "cell_type": "markdown",
      "metadata": {
        "colab_type": "text",
        "id": "5H4sSFAWhV9B"
      },
      "source": [
        "## **Data pre-processing of the bioactivity data**"
      ]
    },
    {
      "cell_type": "markdown",
      "metadata": {
        "colab_type": "text",
        "id": "tO22XVlzhkXR"
      },
      "source": [
        "### **Labeling compounds as either being active, inactive or intermediate**\n",
        "The bioactivity data is in the IC50 unit. Compounds having values of less than 1000 nM will be considered to be **active** while those greater than 10,000 nM will be considered to be **inactive**. As for those values in between 1,000 and 10,000 nM will be referred to as **intermediate**. "
      ]
    },
    {
      "cell_type": "code",
      "execution_count": null,
      "metadata": {
        "colab": {},
        "colab_type": "code",
        "id": "1E8rz7oMOd-5"
      },
      "outputs": [],
      "source": [
        "bioactivity_class = []\n",
        "for i in df2.standard_value:\n",
        "  if float(i) >= 10000:\n",
        "    bioactivity_class.append(\"inactive\")\n",
        "  elif float(i) <= 1000:\n",
        "    bioactivity_class.append(\"active\")\n",
        "  else:\n",
        "    bioactivity_class.append(\"intermediate\")"
      ]
    },
    {
      "cell_type": "markdown",
      "metadata": {
        "colab_type": "text",
        "id": "PFsmb2N9hnTB"
      },
      "source": [
        "### **Iterate the *molecule_chembl_id* to a list**"
      ]
    },
    {
      "cell_type": "code",
      "execution_count": null,
      "metadata": {
        "colab": {},
        "colab_type": "code",
        "id": "DMJng9xnVnMM"
      },
      "outputs": [],
      "source": [
        "mol_cid = []\n",
        "for i in df2.molecule_chembl_id:\n",
        "  mol_cid.append(i)"
      ]
    },
    {
      "cell_type": "markdown",
      "metadata": {
        "colab_type": "text",
        "id": "YRieJc9dhuVZ"
      },
      "source": [
        "### **Iterate *canonical_smiles* to a list**"
      ]
    },
    {
      "cell_type": "code",
      "execution_count": null,
      "metadata": {
        "colab": {},
        "colab_type": "code",
        "id": "AT8qUBk1eVmj"
      },
      "outputs": [],
      "source": [
        "canonical_smiles = []\n",
        "for i in df2.canonical_smiles:\n",
        "  canonical_smiles.append(i)"
      ]
    },
    {
      "cell_type": "markdown",
      "metadata": {
        "colab_type": "text",
        "id": "DZFugUXxhwjE"
      },
      "source": [
        "### **Iterate *standard_value* to a list**"
      ]
    },
    {
      "cell_type": "code",
      "execution_count": null,
      "metadata": {
        "colab": {},
        "colab_type": "code",
        "id": "ZaPt-FjEZNBe"
      },
      "outputs": [],
      "source": [
        "standard_value = []\n",
        "for i in df2.standard_value:\n",
        "  standard_value.append(i)"
      ]
    },
    {
      "cell_type": "markdown",
      "metadata": {
        "colab_type": "text",
        "id": "Nv2dzid_hzKd"
      },
      "source": [
        "### **Combine the 4 lists into a dataframe**"
      ]
    },
    {
      "cell_type": "code",
      "execution_count": null,
      "metadata": {
        "colab": {},
        "colab_type": "code",
        "id": "TWlYO4I3Wrh-"
      },
      "outputs": [],
      "source": [
        "data_tuples = list(zip(mol_cid, canonical_smiles, bioactivity_class, standard_value))\n",
        "df3 = pd.DataFrame( data_tuples,  columns=['molecule_chembl_id', 'canonical_smiles', 'bioactivity_class', 'standard_value'])"
      ]
    },
    {
      "cell_type": "code",
      "execution_count": null,
      "metadata": {
        "colab": {
          "base_uri": "https://localhost:8080/",
          "height": 415
        },
        "colab_type": "code",
        "id": "Li64nUiZQ-y2",
        "outputId": "a1d4cdb5-922d-4573-9f8b-abcb7ef72a58"
      },
      "outputs": [
        {
          "data": {
            "text/html": [
              "<div>\n",
              "<style scoped>\n",
              "    .dataframe tbody tr th:only-of-type {\n",
              "        vertical-align: middle;\n",
              "    }\n",
              "\n",
              "    .dataframe tbody tr th {\n",
              "        vertical-align: top;\n",
              "    }\n",
              "\n",
              "    .dataframe thead th {\n",
              "        text-align: right;\n",
              "    }\n",
              "</style>\n",
              "<table border=\"1\" class=\"dataframe\">\n",
              "  <thead>\n",
              "    <tr style=\"text-align: right;\">\n",
              "      <th></th>\n",
              "      <th>molecule_chembl_id</th>\n",
              "      <th>canonical_smiles</th>\n",
              "      <th>bioactivity_class</th>\n",
              "      <th>standard_value</th>\n",
              "    </tr>\n",
              "  </thead>\n",
              "  <tbody>\n",
              "    <tr>\n",
              "      <th>0</th>\n",
              "      <td>CHEMBL4763715</td>\n",
              "      <td>C[C@H]1O[C@@](O)(O[C@H]2CC[C@@]3(C)[C@@H](CC[C...</td>\n",
              "      <td>intermediate</td>\n",
              "      <td>1700.0</td>\n",
              "    </tr>\n",
              "    <tr>\n",
              "      <th>1</th>\n",
              "      <td>CHEMBL5270175</td>\n",
              "      <td>O=C(NC(Cc1ccccc1)C(=O)N1CCC(O)(c2ccc(Br)cc2)CC...</td>\n",
              "      <td>active</td>\n",
              "      <td>700.0</td>\n",
              "    </tr>\n",
              "    <tr>\n",
              "      <th>2</th>\n",
              "      <td>CHEMBL5283406</td>\n",
              "      <td>CC[C@H](C)[C@H](NC(=O)[C@H](C)NC(=O)[C@H](CCC(...</td>\n",
              "      <td>intermediate</td>\n",
              "      <td>3350.0</td>\n",
              "    </tr>\n",
              "    <tr>\n",
              "      <th>3</th>\n",
              "      <td>CHEMBL91704</td>\n",
              "      <td>CN1CCN(C(=O)N[C@@H](Cc2ccccc2)C(=O)N[C@H](/C=C...</td>\n",
              "      <td>active</td>\n",
              "      <td>1.48</td>\n",
              "    </tr>\n",
              "    <tr>\n",
              "      <th>4</th>\n",
              "      <td>CHEMBL217092</td>\n",
              "      <td>CN1CCN(CCOc2cc(OC3CCOCC3)c3c(Nc4c(Cl)ccc5c4OCO...</td>\n",
              "      <td>intermediate</td>\n",
              "      <td>5100.0</td>\n",
              "    </tr>\n",
              "    <tr>\n",
              "      <th>5</th>\n",
              "      <td>CHEMBL5278230</td>\n",
              "      <td>C=C(C=O)[C@H]1CC=C2[C@H](OC(=O)/C(C)=C/CCCCCCC...</td>\n",
              "      <td>inactive</td>\n",
              "      <td>18100.0</td>\n",
              "    </tr>\n",
              "  </tbody>\n",
              "</table>\n",
              "</div>"
            ],
            "text/plain": [
              "  molecule_chembl_id                                   canonical_smiles  \\\n",
              "0      CHEMBL4763715  C[C@H]1O[C@@](O)(O[C@H]2CC[C@@]3(C)[C@@H](CC[C...   \n",
              "1      CHEMBL5270175  O=C(NC(Cc1ccccc1)C(=O)N1CCC(O)(c2ccc(Br)cc2)CC...   \n",
              "2      CHEMBL5283406  CC[C@H](C)[C@H](NC(=O)[C@H](C)NC(=O)[C@H](CCC(...   \n",
              "3        CHEMBL91704  CN1CCN(C(=O)N[C@@H](Cc2ccccc2)C(=O)N[C@H](/C=C...   \n",
              "4       CHEMBL217092  CN1CCN(CCOc2cc(OC3CCOCC3)c3c(Nc4c(Cl)ccc5c4OCO...   \n",
              "5      CHEMBL5278230  C=C(C=O)[C@H]1CC=C2[C@H](OC(=O)/C(C)=C/CCCCCCC...   \n",
              "\n",
              "  bioactivity_class standard_value  \n",
              "0      intermediate         1700.0  \n",
              "1            active          700.0  \n",
              "2      intermediate         3350.0  \n",
              "3            active           1.48  \n",
              "4      intermediate         5100.0  \n",
              "5          inactive        18100.0  "
            ]
          },
          "execution_count": 24,
          "metadata": {},
          "output_type": "execute_result"
        }
      ],
      "source": [
        "df3"
      ]
    },
    {
      "cell_type": "markdown",
      "metadata": {
        "colab_type": "text",
        "id": "vE0Vvo6ic3MI"
      },
      "source": [
        "### **Alternative method**"
      ]
    },
    {
      "cell_type": "code",
      "execution_count": 37,
      "metadata": {
        "colab": {
          "base_uri": "https://localhost:8080/",
          "height": 415
        },
        "colab_type": "code",
        "id": "VICiiCtqc2ne",
        "outputId": "0b39e703-b724-4f02-d86c-ea07791cdeed"
      },
      "outputs": [
        {
          "data": {
            "text/html": [
              "<div>\n",
              "<style scoped>\n",
              "    .dataframe tbody tr th:only-of-type {\n",
              "        vertical-align: middle;\n",
              "    }\n",
              "\n",
              "    .dataframe tbody tr th {\n",
              "        vertical-align: top;\n",
              "    }\n",
              "\n",
              "    .dataframe thead th {\n",
              "        text-align: right;\n",
              "    }\n",
              "</style>\n",
              "<table border=\"1\" class=\"dataframe\">\n",
              "  <thead>\n",
              "    <tr style=\"text-align: right;\">\n",
              "      <th></th>\n",
              "      <th>molecule_chembl_id</th>\n",
              "      <th>canonical_smiles</th>\n",
              "      <th>standard_value</th>\n",
              "    </tr>\n",
              "  </thead>\n",
              "  <tbody>\n",
              "    <tr>\n",
              "      <th>0</th>\n",
              "      <td>CHEMBL4763715</td>\n",
              "      <td>C[C@H]1O[C@@](O)(O[C@H]2CC[C@@]3(C)[C@@H](CC[C...</td>\n",
              "      <td>1700.0</td>\n",
              "    </tr>\n",
              "    <tr>\n",
              "      <th>1</th>\n",
              "      <td>CHEMBL5270175</td>\n",
              "      <td>O=C(NC(Cc1ccccc1)C(=O)N1CCC(O)(c2ccc(Br)cc2)CC...</td>\n",
              "      <td>700.0</td>\n",
              "    </tr>\n",
              "    <tr>\n",
              "      <th>2</th>\n",
              "      <td>CHEMBL5283406</td>\n",
              "      <td>CC[C@H](C)[C@H](NC(=O)[C@H](C)NC(=O)[C@H](CCC(...</td>\n",
              "      <td>3350.0</td>\n",
              "    </tr>\n",
              "    <tr>\n",
              "      <th>3</th>\n",
              "      <td>CHEMBL91704</td>\n",
              "      <td>CN1CCN(C(=O)N[C@@H](Cc2ccccc2)C(=O)N[C@H](/C=C...</td>\n",
              "      <td>1.48</td>\n",
              "    </tr>\n",
              "    <tr>\n",
              "      <th>4</th>\n",
              "      <td>CHEMBL217092</td>\n",
              "      <td>CN1CCN(CCOc2cc(OC3CCOCC3)c3c(Nc4c(Cl)ccc5c4OCO...</td>\n",
              "      <td>5100.0</td>\n",
              "    </tr>\n",
              "    <tr>\n",
              "      <th>5</th>\n",
              "      <td>CHEMBL5278230</td>\n",
              "      <td>C=C(C=O)[C@H]1CC=C2[C@H](OC(=O)/C(C)=C/CCCCCCC...</td>\n",
              "      <td>18100.0</td>\n",
              "    </tr>\n",
              "  </tbody>\n",
              "</table>\n",
              "</div>"
            ],
            "text/plain": [
              "  molecule_chembl_id                                   canonical_smiles  \\\n",
              "0      CHEMBL4763715  C[C@H]1O[C@@](O)(O[C@H]2CC[C@@]3(C)[C@@H](CC[C...   \n",
              "1      CHEMBL5270175  O=C(NC(Cc1ccccc1)C(=O)N1CCC(O)(c2ccc(Br)cc2)CC...   \n",
              "2      CHEMBL5283406  CC[C@H](C)[C@H](NC(=O)[C@H](C)NC(=O)[C@H](CCC(...   \n",
              "3        CHEMBL91704  CN1CCN(C(=O)N[C@@H](Cc2ccccc2)C(=O)N[C@H](/C=C...   \n",
              "4       CHEMBL217092  CN1CCN(CCOc2cc(OC3CCOCC3)c3c(Nc4c(Cl)ccc5c4OCO...   \n",
              "5      CHEMBL5278230  C=C(C=O)[C@H]1CC=C2[C@H](OC(=O)/C(C)=C/CCCCCCC...   \n",
              "\n",
              "  standard_value  \n",
              "0         1700.0  \n",
              "1          700.0  \n",
              "2         3350.0  \n",
              "3           1.48  \n",
              "4         5100.0  \n",
              "5        18100.0  "
            ]
          },
          "execution_count": 37,
          "metadata": {},
          "output_type": "execute_result"
        }
      ],
      "source": [
        "selection = ['molecule_chembl_id', 'canonical_smiles', 'standard_value']\n",
        "df3 = df2[selection]\n",
        "df3"
      ]
    },
    {
      "cell_type": "code",
      "execution_count": 38,
      "metadata": {
        "colab": {
          "base_uri": "https://localhost:8080/",
          "height": 415
        },
        "colab_type": "code",
        "id": "d8nV77oWdbq1",
        "outputId": "2df59721-3567-48bc-a732-a0b09fa8aa12"
      },
      "outputs": [
        {
          "data": {
            "text/html": [
              "<div>\n",
              "<style scoped>\n",
              "    .dataframe tbody tr th:only-of-type {\n",
              "        vertical-align: middle;\n",
              "    }\n",
              "\n",
              "    .dataframe tbody tr th {\n",
              "        vertical-align: top;\n",
              "    }\n",
              "\n",
              "    .dataframe thead th {\n",
              "        text-align: right;\n",
              "    }\n",
              "</style>\n",
              "<table border=\"1\" class=\"dataframe\">\n",
              "  <thead>\n",
              "    <tr style=\"text-align: right;\">\n",
              "      <th></th>\n",
              "      <th>molecule_chembl_id</th>\n",
              "      <th>canonical_smiles</th>\n",
              "      <th>standard_value</th>\n",
              "      <th>0</th>\n",
              "    </tr>\n",
              "  </thead>\n",
              "  <tbody>\n",
              "    <tr>\n",
              "      <th>0</th>\n",
              "      <td>CHEMBL4763715</td>\n",
              "      <td>C[C@H]1O[C@@](O)(O[C@H]2CC[C@@]3(C)[C@@H](CC[C...</td>\n",
              "      <td>1700.0</td>\n",
              "      <td>intermediate</td>\n",
              "    </tr>\n",
              "    <tr>\n",
              "      <th>1</th>\n",
              "      <td>CHEMBL5270175</td>\n",
              "      <td>O=C(NC(Cc1ccccc1)C(=O)N1CCC(O)(c2ccc(Br)cc2)CC...</td>\n",
              "      <td>700.0</td>\n",
              "      <td>active</td>\n",
              "    </tr>\n",
              "    <tr>\n",
              "      <th>2</th>\n",
              "      <td>CHEMBL5283406</td>\n",
              "      <td>CC[C@H](C)[C@H](NC(=O)[C@H](C)NC(=O)[C@H](CCC(...</td>\n",
              "      <td>3350.0</td>\n",
              "      <td>intermediate</td>\n",
              "    </tr>\n",
              "    <tr>\n",
              "      <th>3</th>\n",
              "      <td>CHEMBL91704</td>\n",
              "      <td>CN1CCN(C(=O)N[C@@H](Cc2ccccc2)C(=O)N[C@H](/C=C...</td>\n",
              "      <td>1.48</td>\n",
              "      <td>active</td>\n",
              "    </tr>\n",
              "    <tr>\n",
              "      <th>4</th>\n",
              "      <td>CHEMBL217092</td>\n",
              "      <td>CN1CCN(CCOc2cc(OC3CCOCC3)c3c(Nc4c(Cl)ccc5c4OCO...</td>\n",
              "      <td>5100.0</td>\n",
              "      <td>intermediate</td>\n",
              "    </tr>\n",
              "    <tr>\n",
              "      <th>5</th>\n",
              "      <td>CHEMBL5278230</td>\n",
              "      <td>C=C(C=O)[C@H]1CC=C2[C@H](OC(=O)/C(C)=C/CCCCCCC...</td>\n",
              "      <td>18100.0</td>\n",
              "      <td>inactive</td>\n",
              "    </tr>\n",
              "  </tbody>\n",
              "</table>\n",
              "</div>"
            ],
            "text/plain": [
              "  molecule_chembl_id                                   canonical_smiles  \\\n",
              "0      CHEMBL4763715  C[C@H]1O[C@@](O)(O[C@H]2CC[C@@]3(C)[C@@H](CC[C...   \n",
              "1      CHEMBL5270175  O=C(NC(Cc1ccccc1)C(=O)N1CCC(O)(c2ccc(Br)cc2)CC...   \n",
              "2      CHEMBL5283406  CC[C@H](C)[C@H](NC(=O)[C@H](C)NC(=O)[C@H](CCC(...   \n",
              "3        CHEMBL91704  CN1CCN(C(=O)N[C@@H](Cc2ccccc2)C(=O)N[C@H](/C=C...   \n",
              "4       CHEMBL217092  CN1CCN(CCOc2cc(OC3CCOCC3)c3c(Nc4c(Cl)ccc5c4OCO...   \n",
              "5      CHEMBL5278230  C=C(C=O)[C@H]1CC=C2[C@H](OC(=O)/C(C)=C/CCCCCCC...   \n",
              "\n",
              "  standard_value             0  \n",
              "0         1700.0  intermediate  \n",
              "1          700.0        active  \n",
              "2         3350.0  intermediate  \n",
              "3           1.48        active  \n",
              "4         5100.0  intermediate  \n",
              "5        18100.0      inactive  "
            ]
          },
          "execution_count": 38,
          "metadata": {},
          "output_type": "execute_result"
        }
      ],
      "source": [
        "pd.concat([df3,pd.Series(bioactivity_class)], axis=1)"
      ]
    },
    {
      "cell_type": "markdown",
      "metadata": {
        "colab_type": "text",
        "id": "9tlgyexWh7YJ"
      },
      "source": [
        "Saves dataframe to CSV file"
      ]
    },
    {
      "cell_type": "code",
      "execution_count": 39,
      "metadata": {
        "colab": {},
        "colab_type": "code",
        "id": "nSNia7suXstR"
      },
      "outputs": [],
      "source": [
        "df3.to_csv('bioactivity_preprocessed_data.csv', index=False)"
      ]
    },
    {
      "cell_type": "code",
      "execution_count": null,
      "metadata": {
        "colab": {
          "base_uri": "https://localhost:8080/",
          "height": 104
        },
        "colab_type": "code",
        "id": "UuZf5-MEd-H5",
        "outputId": "19e008f4-267b-490b-9b2c-e5f88a47a48a"
      },
      "outputs": [
        {
          "name": "stdout",
          "output_type": "stream",
          "text": [
            "total 92\n",
            "-rw-r--r-- 1 root root 70010 Apr 29 17:07 bioactivity_data.csv\n",
            "-rw-r--r-- 1 root root  9326 Apr 29 17:24 bioactivity_preprocessed_data.csv\n",
            "drwx------ 4 root root  4096 Apr 29 17:08 gdrive\n",
            "drwxr-xr-x 1 root root  4096 Apr  3 16:24 sample_data\n"
          ]
        }
      ],
      "source": [
        "! ls -l"
      ]
    },
    {
      "cell_type": "markdown",
      "metadata": {
        "colab_type": "text",
        "id": "_C7rqJKTePhV"
      },
      "source": [
        "Let's copy to the Google Drive"
      ]
    },
    {
      "cell_type": "code",
      "execution_count": null,
      "metadata": {
        "colab": {},
        "colab_type": "code",
        "id": "ZfyvJcENeHDB"
      },
      "outputs": [],
      "source": [
        "! cp bioactivity_preprocessed_data.csv \"/content/gdrive/My Drive/Colab Notebooks/data\""
      ]
    },
    {
      "cell_type": "code",
      "execution_count": null,
      "metadata": {
        "colab": {
          "base_uri": "https://localhost:8080/",
          "height": 35
        },
        "colab_type": "code",
        "id": "7PU7yU9leLV5",
        "outputId": "c07ddf6b-e372-4807-bc0f-7f0b2944a0cf"
      },
      "outputs": [
        {
          "name": "stdout",
          "output_type": "stream",
          "text": [
            "bioactivity_data.csv  bioactivity_preprocessed_data.csv\n"
          ]
        }
      ],
      "source": [
        "! ls \"/content/gdrive/My Drive/Colab Notebooks/data\""
      ]
    },
    {
      "cell_type": "markdown",
      "metadata": {
        "colab_type": "text",
        "id": "ZywB5K_Dlawb"
      },
      "source": [
        "---"
      ]
    }
  ],
  "metadata": {
    "colab": {
      "collapsed_sections": [],
      "name": "CDD-ML-Part-1-bioactivity-data.ipynb",
      "provenance": []
    },
    "kernelspec": {
      "display_name": "Python 3",
      "name": "python3"
    },
    "language_info": {
      "codemirror_mode": {
        "name": "ipython",
        "version": 3
      },
      "file_extension": ".py",
      "mimetype": "text/x-python",
      "name": "python",
      "nbconvert_exporter": "python",
      "pygments_lexer": "ipython3",
      "version": "3.12.4"
    }
  },
  "nbformat": 4,
  "nbformat_minor": 0
}
